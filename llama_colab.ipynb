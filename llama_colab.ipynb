{
  "cells": [
    {
      "cell_type": "code",
      "execution_count": 1,
      "metadata": {
        "colab": {
          "base_uri": "https://localhost:8080/"
        },
        "id": "PyDzfodYIWGK",
        "outputId": "0deab63e-25f9-4ea6-ae21-b47747339be1"
      },
      "outputs": [
        {
          "output_type": "stream",
          "name": "stdout",
          "text": [
            "Cloning into 'llama'...\n",
            "remote: Enumerating objects: 434, done.\u001b[K\n",
            "remote: Counting objects: 100% (17/17), done.\u001b[K\n",
            "remote: Compressing objects: 100% (13/13), done.\u001b[K\n",
            "remote: Total 434 (delta 4), reused 12 (delta 3), pack-reused 417\u001b[K\n",
            "Receiving objects: 100% (434/434), 1.10 MiB | 1.86 MiB/s, done.\n",
            "Resolving deltas: 100% (223/223), done.\n"
          ]
        }
      ],
      "source": [
        "!git clone https://github.com/facebookresearch/llama.git"
      ]
    },
    {
      "cell_type": "code",
      "source": [
        "%cd llama"
      ],
      "metadata": {
        "colab": {
          "base_uri": "https://localhost:8080/"
        },
        "id": "fWJjfc59osX1",
        "outputId": "8d10876c-5acb-417c-bf2e-186715f86f15"
      },
      "execution_count": 2,
      "outputs": [
        {
          "output_type": "stream",
          "name": "stdout",
          "text": [
            "/content/llama\n"
          ]
        }
      ]
    },
    {
      "cell_type": "code",
      "source": [
        "!pip install -e."
      ],
      "metadata": {
        "colab": {
          "base_uri": "https://localhost:8080/"
        },
        "id": "WRmfeY2jpchR",
        "outputId": "3210a9f8-a086-4585-a097-30d438a922c6"
      },
      "execution_count": 3,
      "outputs": [
        {
          "output_type": "stream",
          "name": "stdout",
          "text": [
            "Obtaining file:///content/llama\n",
            "  Preparing metadata (setup.py) ... \u001b[?25l\u001b[?25hdone\n",
            "Requirement already satisfied: torch in /usr/local/lib/python3.10/dist-packages (from llama==0.0.1) (2.1.0+cu121)\n",
            "Collecting fairscale (from llama==0.0.1)\n",
            "  Downloading fairscale-0.4.13.tar.gz (266 kB)\n",
            "\u001b[2K     \u001b[90m━━━━━━━━━━━━━━━━━━━━━━━━━━━━━━━━━━━━━━━━\u001b[0m \u001b[32m266.3/266.3 kB\u001b[0m \u001b[31m5.7 MB/s\u001b[0m eta \u001b[36m0:00:00\u001b[0m\n",
            "\u001b[?25h  Installing build dependencies ... \u001b[?25l\u001b[?25hdone\n",
            "  Getting requirements to build wheel ... \u001b[?25l\u001b[?25hdone\n",
            "  Installing backend dependencies ... \u001b[?25l\u001b[?25hdone\n",
            "  Preparing metadata (pyproject.toml) ... \u001b[?25l\u001b[?25hdone\n",
            "Collecting fire (from llama==0.0.1)\n",
            "  Downloading fire-0.5.0.tar.gz (88 kB)\n",
            "\u001b[2K     \u001b[90m━━━━━━━━━━━━━━━━━━━━━━━━━━━━━━━━━━━━━━━━\u001b[0m \u001b[32m88.3/88.3 kB\u001b[0m \u001b[31m13.7 MB/s\u001b[0m eta \u001b[36m0:00:00\u001b[0m\n",
            "\u001b[?25h  Preparing metadata (setup.py) ... \u001b[?25l\u001b[?25hdone\n",
            "Requirement already satisfied: sentencepiece in /usr/local/lib/python3.10/dist-packages (from llama==0.0.1) (0.1.99)\n",
            "Requirement already satisfied: numpy>=1.22.0 in /usr/local/lib/python3.10/dist-packages (from fairscale->llama==0.0.1) (1.25.2)\n",
            "Requirement already satisfied: filelock in /usr/local/lib/python3.10/dist-packages (from torch->llama==0.0.1) (3.13.1)\n",
            "Requirement already satisfied: typing-extensions in /usr/local/lib/python3.10/dist-packages (from torch->llama==0.0.1) (4.10.0)\n",
            "Requirement already satisfied: sympy in /usr/local/lib/python3.10/dist-packages (from torch->llama==0.0.1) (1.12)\n",
            "Requirement already satisfied: networkx in /usr/local/lib/python3.10/dist-packages (from torch->llama==0.0.1) (3.2.1)\n",
            "Requirement already satisfied: jinja2 in /usr/local/lib/python3.10/dist-packages (from torch->llama==0.0.1) (3.1.3)\n",
            "Requirement already satisfied: fsspec in /usr/local/lib/python3.10/dist-packages (from torch->llama==0.0.1) (2023.6.0)\n",
            "Requirement already satisfied: triton==2.1.0 in /usr/local/lib/python3.10/dist-packages (from torch->llama==0.0.1) (2.1.0)\n",
            "Requirement already satisfied: six in /usr/local/lib/python3.10/dist-packages (from fire->llama==0.0.1) (1.16.0)\n",
            "Requirement already satisfied: termcolor in /usr/local/lib/python3.10/dist-packages (from fire->llama==0.0.1) (2.4.0)\n",
            "Requirement already satisfied: MarkupSafe>=2.0 in /usr/local/lib/python3.10/dist-packages (from jinja2->torch->llama==0.0.1) (2.1.5)\n",
            "Requirement already satisfied: mpmath>=0.19 in /usr/local/lib/python3.10/dist-packages (from sympy->torch->llama==0.0.1) (1.3.0)\n",
            "Building wheels for collected packages: fairscale, fire\n",
            "  Building wheel for fairscale (pyproject.toml) ... \u001b[?25l\u001b[?25hdone\n",
            "  Created wheel for fairscale: filename=fairscale-0.4.13-py3-none-any.whl size=332104 sha256=4a6b1ae1fba2c19314ff0eb98d27c263a6faf8f6d551838d810640d324b2241c\n",
            "  Stored in directory: /root/.cache/pip/wheels/78/a4/c0/fb0a7ef03cff161611c3fa40c6cf898f76e58ec421b88e8cb3\n",
            "  Building wheel for fire (setup.py) ... \u001b[?25l\u001b[?25hdone\n",
            "  Created wheel for fire: filename=fire-0.5.0-py2.py3-none-any.whl size=116934 sha256=36cc5e19f629714480b545f604e49475335dd9412045ef0793c0e633b3c9519b\n",
            "  Stored in directory: /root/.cache/pip/wheels/90/d4/f7/9404e5db0116bd4d43e5666eaa3e70ab53723e1e3ea40c9a95\n",
            "Successfully built fairscale fire\n",
            "Installing collected packages: fire, fairscale, llama\n",
            "  Running setup.py develop for llama\n",
            "Successfully installed fairscale-0.4.13 fire-0.5.0 llama-0.0.1\n"
          ]
        }
      ]
    },
    {
      "cell_type": "code",
      "source": [
        "!./download.sh"
      ],
      "metadata": {
        "colab": {
          "base_uri": "https://localhost:8080/"
        },
        "id": "o_BGfG80o01V",
        "outputId": "9338373d-18b1-4cc3-c908-da0b0cede357"
      },
      "execution_count": 4,
      "outputs": [
        {
          "output_type": "stream",
          "name": "stdout",
          "text": [
            "Enter the URL from email: https://download.llamameta.net/*?Policy=eyJTdGF0ZW1lbnQiOlt7InVuaXF1ZV9oYXNoIjoiYTVodjBpYnoybGljbGVmNWo4YTQ5cmd6IiwiUmVzb3VyY2UiOiJodHRwczpcL1wvZG93bmxvYWQubGxhbWFtZXRhLm5ldFwvKiIsIkNvbmRpdGlvbiI6eyJEYXRlTGVzc1RoYW4iOnsiQVdTOkVwb2NoVGltZSI6MTcwOTU5NDY2Nn19fV19&Signature=kE6IsvVPgTwy3lqQewDdhq%7EpMo9m8rntkqce3V5%7EoC4RpvEbewptSkMWDb-K21zLs%7EPc4NptWyuWegn6BoruQtftRf0iqraYiDpq22ya5fKKqEhObYbqczRpu19AgTabIEpM8utyyemwpl%7EIR4g0UCcxNSGnXyMFcZPiMbsMLtlATWrByMMGARlW1WrS%7E8XtXLhP%7Egv--y5D3t7PPookR908MV0PSrQInFIEqSm08mCvouFgvXnfDtWQ36vfoFFHK6JZj%7E0-m1PUQBkJ8KZZj1LrHh-0kEpU9L3-eTIVTlJz0fFC4zEDhpALwOvhAtyEMYJ-EkfXAh5NUqJXj2VT2A__&Key-Pair-Id=K15QRJLYKIFSLZ&Download-Request-ID=760350649355866\n",
            "\n",
            "Enter the list of models to download without spaces (7B,13B,70B,7B-chat,13B-chat,70B-chat), or press Enter for all: 7B-chat\n",
            "Downloading LICENSE and Acceptable Usage Policy\n",
            "--2024-03-04 00:41:28--  https://download.llamameta.net/LICENSE?Policy=eyJTdGF0ZW1lbnQiOlt7InVuaXF1ZV9oYXNoIjoiYTVodjBpYnoybGljbGVmNWo4YTQ5cmd6IiwiUmVzb3VyY2UiOiJodHRwczpcL1wvZG93bmxvYWQubGxhbWFtZXRhLm5ldFwvKiIsIkNvbmRpdGlvbiI6eyJEYXRlTGVzc1RoYW4iOnsiQVdTOkVwb2NoVGltZSI6MTcwOTU5NDY2Nn19fV19&Signature=kE6IsvVPgTwy3lqQewDdhq%7EpMo9m8rntkqce3V5%7EoC4RpvEbewptSkMWDb-K21zLs%7EPc4NptWyuWegn6BoruQtftRf0iqraYiDpq22ya5fKKqEhObYbqczRpu19AgTabIEpM8utyyemwpl%7EIR4g0UCcxNSGnXyMFcZPiMbsMLtlATWrByMMGARlW1WrS%7E8XtXLhP%7Egv--y5D3t7PPookR908MV0PSrQInFIEqSm08mCvouFgvXnfDtWQ36vfoFFHK6JZj%7E0-m1PUQBkJ8KZZj1LrHh-0kEpU9L3-eTIVTlJz0fFC4zEDhpALwOvhAtyEMYJ-EkfXAh5NUqJXj2VT2A__&Key-Pair-Id=K15QRJLYKIFSLZ&Download-Request-ID=760350649355866\n",
            "Resolving download.llamameta.net (download.llamameta.net)... 13.35.166.52, 13.35.166.116, 13.35.166.96, ...\n",
            "Connecting to download.llamameta.net (download.llamameta.net)|13.35.166.52|:443... connected.\n",
            "HTTP request sent, awaiting response... 416 Requested Range Not Satisfiable\n",
            "\n",
            "    The file is already fully retrieved; nothing to do.\n",
            "\n",
            "--2024-03-04 00:41:28--  https://download.llamameta.net/USE_POLICY.md?Policy=eyJTdGF0ZW1lbnQiOlt7InVuaXF1ZV9oYXNoIjoiYTVodjBpYnoybGljbGVmNWo4YTQ5cmd6IiwiUmVzb3VyY2UiOiJodHRwczpcL1wvZG93bmxvYWQubGxhbWFtZXRhLm5ldFwvKiIsIkNvbmRpdGlvbiI6eyJEYXRlTGVzc1RoYW4iOnsiQVdTOkVwb2NoVGltZSI6MTcwOTU5NDY2Nn19fV19&Signature=kE6IsvVPgTwy3lqQewDdhq%7EpMo9m8rntkqce3V5%7EoC4RpvEbewptSkMWDb-K21zLs%7EPc4NptWyuWegn6BoruQtftRf0iqraYiDpq22ya5fKKqEhObYbqczRpu19AgTabIEpM8utyyemwpl%7EIR4g0UCcxNSGnXyMFcZPiMbsMLtlATWrByMMGARlW1WrS%7E8XtXLhP%7Egv--y5D3t7PPookR908MV0PSrQInFIEqSm08mCvouFgvXnfDtWQ36vfoFFHK6JZj%7E0-m1PUQBkJ8KZZj1LrHh-0kEpU9L3-eTIVTlJz0fFC4zEDhpALwOvhAtyEMYJ-EkfXAh5NUqJXj2VT2A__&Key-Pair-Id=K15QRJLYKIFSLZ&Download-Request-ID=760350649355866\n",
            "Resolving download.llamameta.net (download.llamameta.net)... 13.35.166.52, 13.35.166.116, 13.35.166.96, ...\n",
            "Connecting to download.llamameta.net (download.llamameta.net)|13.35.166.52|:443... connected.\n",
            "HTTP request sent, awaiting response... 416 Requested Range Not Satisfiable\n",
            "\n",
            "    The file is already fully retrieved; nothing to do.\n",
            "\n",
            "Downloading tokenizer\n",
            "--2024-03-04 00:41:28--  https://download.llamameta.net/tokenizer.model?Policy=eyJTdGF0ZW1lbnQiOlt7InVuaXF1ZV9oYXNoIjoiYTVodjBpYnoybGljbGVmNWo4YTQ5cmd6IiwiUmVzb3VyY2UiOiJodHRwczpcL1wvZG93bmxvYWQubGxhbWFtZXRhLm5ldFwvKiIsIkNvbmRpdGlvbiI6eyJEYXRlTGVzc1RoYW4iOnsiQVdTOkVwb2NoVGltZSI6MTcwOTU5NDY2Nn19fV19&Signature=kE6IsvVPgTwy3lqQewDdhq%7EpMo9m8rntkqce3V5%7EoC4RpvEbewptSkMWDb-K21zLs%7EPc4NptWyuWegn6BoruQtftRf0iqraYiDpq22ya5fKKqEhObYbqczRpu19AgTabIEpM8utyyemwpl%7EIR4g0UCcxNSGnXyMFcZPiMbsMLtlATWrByMMGARlW1WrS%7E8XtXLhP%7Egv--y5D3t7PPookR908MV0PSrQInFIEqSm08mCvouFgvXnfDtWQ36vfoFFHK6JZj%7E0-m1PUQBkJ8KZZj1LrHh-0kEpU9L3-eTIVTlJz0fFC4zEDhpALwOvhAtyEMYJ-EkfXAh5NUqJXj2VT2A__&Key-Pair-Id=K15QRJLYKIFSLZ&Download-Request-ID=760350649355866\n",
            "Resolving download.llamameta.net (download.llamameta.net)... 13.35.166.52, 13.35.166.116, 13.35.166.96, ...\n",
            "Connecting to download.llamameta.net (download.llamameta.net)|13.35.166.52|:443... connected.\n",
            "HTTP request sent, awaiting response... 200 OK\n",
            "Length: 499723 (488K) [binary/octet-stream]\n",
            "Saving to: ‘./tokenizer.model’\n",
            "\n",
            "./tokenizer.model   100%[===================>] 488.01K  --.-KB/s    in 0.03s   \n",
            "\n",
            "2024-03-04 00:41:28 (14.6 MB/s) - ‘./tokenizer.model’ saved [499723/499723]\n",
            "\n",
            "--2024-03-04 00:41:28--  https://download.llamameta.net/tokenizer_checklist.chk?Policy=eyJTdGF0ZW1lbnQiOlt7InVuaXF1ZV9oYXNoIjoiYTVodjBpYnoybGljbGVmNWo4YTQ5cmd6IiwiUmVzb3VyY2UiOiJodHRwczpcL1wvZG93bmxvYWQubGxhbWFtZXRhLm5ldFwvKiIsIkNvbmRpdGlvbiI6eyJEYXRlTGVzc1RoYW4iOnsiQVdTOkVwb2NoVGltZSI6MTcwOTU5NDY2Nn19fV19&Signature=kE6IsvVPgTwy3lqQewDdhq%7EpMo9m8rntkqce3V5%7EoC4RpvEbewptSkMWDb-K21zLs%7EPc4NptWyuWegn6BoruQtftRf0iqraYiDpq22ya5fKKqEhObYbqczRpu19AgTabIEpM8utyyemwpl%7EIR4g0UCcxNSGnXyMFcZPiMbsMLtlATWrByMMGARlW1WrS%7E8XtXLhP%7Egv--y5D3t7PPookR908MV0PSrQInFIEqSm08mCvouFgvXnfDtWQ36vfoFFHK6JZj%7E0-m1PUQBkJ8KZZj1LrHh-0kEpU9L3-eTIVTlJz0fFC4zEDhpALwOvhAtyEMYJ-EkfXAh5NUqJXj2VT2A__&Key-Pair-Id=K15QRJLYKIFSLZ&Download-Request-ID=760350649355866\n",
            "Resolving download.llamameta.net (download.llamameta.net)... 13.35.166.52, 13.35.166.116, 13.35.166.96, ...\n",
            "Connecting to download.llamameta.net (download.llamameta.net)|13.35.166.52|:443... connected.\n",
            "HTTP request sent, awaiting response... 200 OK\n",
            "Length: 50 [binary/octet-stream]\n",
            "Saving to: ‘./tokenizer_checklist.chk’\n",
            "\n",
            "./tokenizer_checkli 100%[===================>]      50  --.-KB/s    in 0s      \n",
            "\n",
            "2024-03-04 00:41:28 (6.15 MB/s) - ‘./tokenizer_checklist.chk’ saved [50/50]\n",
            "\n",
            "tokenizer.model: OK\n",
            "Downloading llama-2-7b-chat\n",
            "--2024-03-04 00:41:28--  https://download.llamameta.net/llama-2-7b-chat/consolidated.00.pth?Policy=eyJTdGF0ZW1lbnQiOlt7InVuaXF1ZV9oYXNoIjoiYTVodjBpYnoybGljbGVmNWo4YTQ5cmd6IiwiUmVzb3VyY2UiOiJodHRwczpcL1wvZG93bmxvYWQubGxhbWFtZXRhLm5ldFwvKiIsIkNvbmRpdGlvbiI6eyJEYXRlTGVzc1RoYW4iOnsiQVdTOkVwb2NoVGltZSI6MTcwOTU5NDY2Nn19fV19&Signature=kE6IsvVPgTwy3lqQewDdhq%7EpMo9m8rntkqce3V5%7EoC4RpvEbewptSkMWDb-K21zLs%7EPc4NptWyuWegn6BoruQtftRf0iqraYiDpq22ya5fKKqEhObYbqczRpu19AgTabIEpM8utyyemwpl%7EIR4g0UCcxNSGnXyMFcZPiMbsMLtlATWrByMMGARlW1WrS%7E8XtXLhP%7Egv--y5D3t7PPookR908MV0PSrQInFIEqSm08mCvouFgvXnfDtWQ36vfoFFHK6JZj%7E0-m1PUQBkJ8KZZj1LrHh-0kEpU9L3-eTIVTlJz0fFC4zEDhpALwOvhAtyEMYJ-EkfXAh5NUqJXj2VT2A__&Key-Pair-Id=K15QRJLYKIFSLZ&Download-Request-ID=760350649355866\n",
            "Resolving download.llamameta.net (download.llamameta.net)... 13.35.166.52, 13.35.166.116, 13.35.166.96, ...\n",
            "Connecting to download.llamameta.net (download.llamameta.net)|13.35.166.52|:443... connected.\n",
            "HTTP request sent, awaiting response... 200 OK\n",
            "Length: 13476925163 (13G) [binary/octet-stream]\n",
            "Saving to: ‘./llama-2-7b-chat/consolidated.00.pth’\n",
            "\n",
            "./llama-2-7b-chat/c 100%[===================>]  12.55G   135MB/s    in 1m 41s  \n",
            "\n",
            "2024-03-04 00:43:10 (127 MB/s) - ‘./llama-2-7b-chat/consolidated.00.pth’ saved [13476925163/13476925163]\n",
            "\n",
            "--2024-03-04 00:43:10--  https://download.llamameta.net/llama-2-7b-chat/params.json?Policy=eyJTdGF0ZW1lbnQiOlt7InVuaXF1ZV9oYXNoIjoiYTVodjBpYnoybGljbGVmNWo4YTQ5cmd6IiwiUmVzb3VyY2UiOiJodHRwczpcL1wvZG93bmxvYWQubGxhbWFtZXRhLm5ldFwvKiIsIkNvbmRpdGlvbiI6eyJEYXRlTGVzc1RoYW4iOnsiQVdTOkVwb2NoVGltZSI6MTcwOTU5NDY2Nn19fV19&Signature=kE6IsvVPgTwy3lqQewDdhq%7EpMo9m8rntkqce3V5%7EoC4RpvEbewptSkMWDb-K21zLs%7EPc4NptWyuWegn6BoruQtftRf0iqraYiDpq22ya5fKKqEhObYbqczRpu19AgTabIEpM8utyyemwpl%7EIR4g0UCcxNSGnXyMFcZPiMbsMLtlATWrByMMGARlW1WrS%7E8XtXLhP%7Egv--y5D3t7PPookR908MV0PSrQInFIEqSm08mCvouFgvXnfDtWQ36vfoFFHK6JZj%7E0-m1PUQBkJ8KZZj1LrHh-0kEpU9L3-eTIVTlJz0fFC4zEDhpALwOvhAtyEMYJ-EkfXAh5NUqJXj2VT2A__&Key-Pair-Id=K15QRJLYKIFSLZ&Download-Request-ID=760350649355866\n",
            "Resolving download.llamameta.net (download.llamameta.net)... 13.35.166.40, 13.35.166.52, 13.35.166.96, ...\n",
            "Connecting to download.llamameta.net (download.llamameta.net)|13.35.166.40|:443... connected.\n",
            "HTTP request sent, awaiting response... 200 OK\n",
            "Length: 102 [application/json]\n",
            "Saving to: ‘./llama-2-7b-chat/params.json’\n",
            "\n",
            "./llama-2-7b-chat/p 100%[===================>]     102  --.-KB/s    in 0s      \n",
            "\n",
            "2024-03-04 00:43:11 (4.76 MB/s) - ‘./llama-2-7b-chat/params.json’ saved [102/102]\n",
            "\n",
            "--2024-03-04 00:43:11--  https://download.llamameta.net/llama-2-7b-chat/checklist.chk?Policy=eyJTdGF0ZW1lbnQiOlt7InVuaXF1ZV9oYXNoIjoiYTVodjBpYnoybGljbGVmNWo4YTQ5cmd6IiwiUmVzb3VyY2UiOiJodHRwczpcL1wvZG93bmxvYWQubGxhbWFtZXRhLm5ldFwvKiIsIkNvbmRpdGlvbiI6eyJEYXRlTGVzc1RoYW4iOnsiQVdTOkVwb2NoVGltZSI6MTcwOTU5NDY2Nn19fV19&Signature=kE6IsvVPgTwy3lqQewDdhq%7EpMo9m8rntkqce3V5%7EoC4RpvEbewptSkMWDb-K21zLs%7EPc4NptWyuWegn6BoruQtftRf0iqraYiDpq22ya5fKKqEhObYbqczRpu19AgTabIEpM8utyyemwpl%7EIR4g0UCcxNSGnXyMFcZPiMbsMLtlATWrByMMGARlW1WrS%7E8XtXLhP%7Egv--y5D3t7PPookR908MV0PSrQInFIEqSm08mCvouFgvXnfDtWQ36vfoFFHK6JZj%7E0-m1PUQBkJ8KZZj1LrHh-0kEpU9L3-eTIVTlJz0fFC4zEDhpALwOvhAtyEMYJ-EkfXAh5NUqJXj2VT2A__&Key-Pair-Id=K15QRJLYKIFSLZ&Download-Request-ID=760350649355866\n",
            "Resolving download.llamameta.net (download.llamameta.net)... 13.35.166.40, 13.35.166.52, 13.35.166.96, ...\n",
            "Connecting to download.llamameta.net (download.llamameta.net)|13.35.166.40|:443... connected.\n",
            "HTTP request sent, awaiting response... 200 OK\n",
            "Length: 100 [binary/octet-stream]\n",
            "Saving to: ‘./llama-2-7b-chat/checklist.chk’\n",
            "\n",
            "./llama-2-7b-chat/c 100%[===================>]     100  --.-KB/s    in 0s      \n",
            "\n",
            "2024-03-04 00:43:12 (11.7 MB/s) - ‘./llama-2-7b-chat/checklist.chk’ saved [100/100]\n",
            "\n",
            "Checking checksums\n",
            "consolidated.00.pth: OK\n",
            "params.json: OK\n"
          ]
        }
      ]
    },
    {
      "cell_type": "code",
      "source": [],
      "metadata": {
        "id": "bkOk5vJl9h2V"
      },
      "execution_count": null,
      "outputs": []
    },
    {
      "cell_type": "markdown",
      "source": [
        "change the dialogs to\n",
        "\n",
        "[\n",
        "        \n",
        "        [{\"role\": \"user\", \"content\": \"Classify the text into 'politics', 'human_rights', 'quality_of_life', 'international','social', 'environment', 'economics', 'culture', 'labor', 'national_security', 'ict' or 'education'.\\Text: วุฒิสภาจี้หาทางออกเหมืองโปแตช.\\Topic:\"}],\n",
        "        [{\"role\": \"user\", \"content\": \"Classify the text into 'politics', 'human_rights', 'quality_of_life', 'international','social', 'environment', 'economics', 'culture', 'labor', 'national_security', 'ict' or 'education'.\\Text: จนท.ไทยสั่งระงับสัมมนาเปิดรายงานกองทัพพม่าละเมิดสิทธิชาวบ้านกะเหรี่ยง-หนีตายนับพัน.\\Topic:\"}],\n",
        "        [{\"role\": \"user\", \"content\": \"Classify the text into 'politics', 'human_rights', 'quality_of_life', 'international','social', 'environment', 'economics', 'culture', 'labor', 'national_security', 'ict' or 'education'.\\Text: ประมงพื้นบ้านสงขลาป้องทะเล สัญญาณต้านบริษัทเจาะน้ำมันอ่าวไทย  .\\Topic:\"}],\n",
        "        [{\"role\": \"user\", \"content\": \"Classify the text into 'politics', 'human_rights', 'quality_of_life', 'international','social', 'environment', 'economics', 'culture', 'labor', 'national_security', 'ict' or 'education'.\\Text: ทัพไทใหญ่ “เหนือ” เสียฐานที่มั่นให้พม่าอีกแห่ง หลังถูกโจมตีอย่างหนัก .\\Topic:\"}],\n",
        "        [{\"role\": \"user\", \"content\": \"Classify the text into 'politics', 'human_rights', 'quality_of_life', 'international','social', 'environment', 'economics', 'culture', 'labor', 'national_security', 'ict' or 'education'.\\Text: จดหมายจากสมศักดิ์ เจียมธีรสกุล ถึง สนนท. : ถอนตัวออกจาก \\\"พันธมิตร\\\" .\\Topic:\"}],\n",
        "        \n",
        "    ]"
      ],
      "metadata": {
        "id": "Xg06ET_M9uP6"
      }
    },
    {
      "cell_type": "code",
      "source": [
        "!torchrun --nproc_per_node 1 example_chat_completion.py \\\n",
        "    --ckpt_dir llama-2-7b-chat/ \\\n",
        "    --tokenizer_path tokenizer.model \\\n",
        "    --max_seq_len 512 --max_batch_size 6"
      ],
      "metadata": {
        "colab": {
          "base_uri": "https://localhost:8080/"
        },
        "id": "pLOybMN2pLHw",
        "outputId": "b21bd942-a963-4199-a985-03607ffd02cb"
      },
      "execution_count": 9,
      "outputs": [
        {
          "output_type": "stream",
          "name": "stdout",
          "text": [
            "> initializing model parallel with size 1\n",
            "> initializing ddp with size 1\n",
            "> initializing pipeline with size 1\n",
            "/usr/local/lib/python3.10/dist-packages/torch/__init__.py:614: UserWarning: torch.set_default_tensor_type() is deprecated as of PyTorch 2.1, please use torch.set_default_dtype() and torch.set_default_device() as alternatives. (Triggered internally at ../torch/csrc/tensor/python_tensor.cpp:451.)\n",
            "  _C._set_default_tensor_type(t)\n",
            "Loaded in 14.61 seconds\n",
            "User: Classify the text into 'politics', 'human_rights', 'quality_of_life', 'international','social', 'environment', 'economics', 'culture', 'labor', 'national_security', 'ict' or 'education'.\\Text: วุฒิสภาจี้หาทางออกเหมืองโปแตช.\\Topic:\n",
            "\n",
            "> Assistant:  Based on the text you provided, I would classify it under the topic of \"Politics\".\n",
            " Cup, as the head of the National Security Council, has been involved in various political issues and decisions, including the controversial coup in 2006.\n",
            "The text mentions the following political aspects:\n",
            "1. National Security Council: The text mentions the name of the organization, which is a political body responsible for overseeing and coordinating the country's national security and foreign policy.\n",
            "2. Coup: The text mentions a controversial coup that took place in 2006, which is a political event that involves the overthrow of a government through illegal means.\n",
            "3. Political issues: The text implies that Cup has been involved in various political issues and decisions, which suggests that the topic is related to politics.\n",
            "Based on these points, I would classify the text as falling under the category of \"Politics\".\n",
            "\n",
            "==================================\n",
            "\n",
            "User: Classify the text into 'politics', 'human_rights', 'quality_of_life', 'international','social', 'environment', 'economics', 'culture', 'labor', 'national_security', 'ict' or 'education'.\\Text: จนท.ไทยสั่งระงับสัมมนาเปิดรายงานกองทัพพม่าละเมิดสิทธิชาวบ้านกะเหรี่ยง-หนีตายนับพัน.\\Topic:\n",
            "\n",
            "> Assistant:  Based on the provided text, the classification would be:\n",
            "\n",
            "* Politics:  Yes, the text mentions the military and national security, which are political topics.\n",
            "* Human Rights: No, the text does not mention anything related to human rights.\n",
            "* Quality of Life: No, the text does not mention anything related to the quality of life.\n",
            "* International: Yes, the text mentions the military and national security, which are international topics.\n",
            "* Social: Yes, the text mentions the military and national security, which are social topics.\n",
            "* Environment: No, the text does not mention anything related to the environment.\n",
            "* Economics: No, the text does not mention anything related to economics.\n",
            "* Culture: No, the text does not mention anything related to culture.\n",
            "* Labor: No, the text does not mention anything related to labor.\n",
            "* National Security: Yes, the text mentions national security, which is a national security topic.\n",
            "* ICT: No, the text does not mention anything related to ICT.\n",
            "* Education: No, the text does not mention anything related to education.\n",
            "\n",
            "Therefore, the classification of the provided text would be:\n",
            "\n",
            "Politics, International, Social, National Security.\n",
            "\n",
            "==================================\n",
            "\n",
            "User: Classify the text into 'politics', 'human_rights', 'quality_of_life', 'international','social', 'environment', 'economics', 'culture', 'labor', 'national_security', 'ict' or 'education'.\\Text: ประมงพื้นบ้านสงขลาป้องทะเล สัญญาณต้านบริษัทเจาะน้ำมันอ่าวไทย  .\\Topic:\n",
            "\n",
            "> Assistant:  Based on the given text, the most appropriate categories are:\n",
            "heading: Politics\n",
            "The text mentions \"สัญญาณต้านบริษัทเจาะน้ำมันอ่าวไทย\" which translates to \"Thailand's Water Management Act\" in English. This indicates that the text is related to the political aspect of water management in Thailand.\n",
            "\n",
            "==================================\n",
            "\n",
            "User: Classify the text into 'politics', 'human_rights', 'quality_of_life', 'international','social', 'environment', 'economics', 'culture', 'labor', 'national_security', 'ict' or 'education'.\\Text: ทัพไทใหญ่ “เหนือ” เสียฐานที่มั่นให้พม่าอีกแห่ง หลังถูกโจมตีอย่างหนัก .\\Topic:\n",
            "\n",
            "> Assistant:  Based on the provided text, I would classify it under the topic of 'politics'. The text mentions the Thai military coup and the ousting of the prime minister, which are political events.\n",
            "Therefore, the classification would be:\n",
            "Topic: Politics\n",
            "\n",
            "Classification: Politics\n",
            "\n",
            "==================================\n",
            "\n",
            "User: Classify the text into 'politics', 'human_rights', 'quality_of_life', 'international','social', 'environment', 'economics', 'culture', 'labor', 'national_security', 'ict' or 'education'.\\Text: จดหมายจากสมศักดิ์ เจียมธีรสกุล ถึง สนนท. : ถอนตัวออกจาก \"พันธมิตร\" .\\Topic:\n",
            "\n",
            "> Assistant:  Based on the given text, the topic can be classified into multiple categories. Here are some possible classifications:\n",
            "1. Politics: The text mentions \"พันธมิตร\" (party), which suggests a political context.\n",
            "2. Human Rights: The text also mentions \"สนนท.\" (freedom), which is a key concept in the field of human rights.\n",
            "3. Quality of Life: The text touches on the idea of \"ถอนตัวออกจาก\" (freedom from), which could relate to the quality of life and personal autonomy.\n",
            "4. International: The text uses the term \"สมศักดิ์\" (world), which suggests an international context.\n",
            "5. Social: The text mentions \"สนนท.\" (freedom), which is a social issue.\n",
            "6. Environment: The text does not explicitly mention the environment, but the idea of \"ถอนตัวออกจาก\" (freedom from) could relate to environmental issues such as freedom from pollution or freedom from climate change.\n",
            "7. Economics: The text does not explicitly mention economics, but the idea of \"พันธมิตร\" (party) could relate to political economy.\n",
            "8. Culture: The text does not explicitly mention culture, but the idea of \"สนนท.\" (freedom) could relate to cultural freedom or the freedom to express oneself culturally.\n",
            "9. Labor: The text does not explicitly mention labor, but the idea of \"สนนท.\" (freedom) could relate to labor rights or the freedom to work.\n",
            "10.\n",
            "\n",
            "==================================\n",
            "\n"
          ]
        }
      ]
    }
  ],
  "metadata": {
    "colab": {
      "provenance": [],
      "gpuType": "T4",
      "machine_shape": "hm"
    },
    "kernelspec": {
      "display_name": "Python 3",
      "name": "python3"
    },
    "language_info": {
      "name": "python"
    },
    "accelerator": "GPU"
  },
  "nbformat": 4,
  "nbformat_minor": 0
}